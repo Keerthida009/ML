{
  "nbformat": 4,
  "nbformat_minor": 0,
  "metadata": {
    "colab": {
      "provenance": []
    },
    "kernelspec": {
      "name": "python3",
      "display_name": "Python 3"
    },
    "language_info": {
      "name": "python"
    }
  },
  "cells": [
    {
      "cell_type": "markdown",
      "source": [
        "ML LAB - 2"
      ],
      "metadata": {
        "id": "mrIBcf2iLJMZ"
      }
    },
    {
      "cell_type": "markdown",
      "source": [
        "A1."
      ],
      "metadata": {
        "id": "W6up1aCALNJh"
      }
    },
    {
      "cell_type": "code",
      "execution_count": null,
      "metadata": {
        "colab": {
          "base_uri": "https://localhost:8080/"
        },
        "id": "q6KDRCrHJE_8",
        "outputId": "38404aa5-a2f7-4ece-a0b4-1be2292bc765"
      },
      "outputs": [
        {
          "output_type": "stream",
          "name": "stdout",
          "text": [
            "\n",
            "Dimensionality of the vector space: 3\n",
            "Number of vectors in the vector space: 10\n",
            "Rank of Matrix A: 3\n",
            "\n",
            "Estimated Cost of Each Product:\n",
            "Candy Cost (Rs): ₹1.0\n",
            "Mango Cost (Rs/kg): ₹55.0\n",
            "Milk Packet Cost (Rs): ₹18.0\n"
          ]
        }
      ],
      "source": [
        "# Importing required libraries\n",
        "import pandas as pd\n",
        "import numpy as np\n",
        "\n",
        "# 1. Load the Excel file and select the \"Purchase data\" worksheet\n",
        "file_path = \"Lab Session Data.xlsx\"\n",
        "df = pd.read_excel(file_path, sheet_name=\"Purchase data\")\n",
        "\n",
        "# 2. Split into A (products purchased) and C (payment)\n",
        "# We will exclude the 'Customer' column and use only the product quantities\n",
        "A = df[['Candies (#)', 'Mangoes (Kg)', 'Milk Packets (#)']].values  # Matrix A\n",
        "C = df[['Payment (Rs)']].values  # Matrix C (target values)\n",
        "\n",
        "# 3. Dimensionality of vector space\n",
        "# Dimensionality is basically the number of features (columns in A)\n",
        "dimensionality = A.shape[1]\n",
        "print(\"\\nDimensionality of the vector space:\", dimensionality)\n",
        "\n",
        "# 4. Number of vectors in the space\n",
        "# Number of rows = number of vectors (observations)\n",
        "num_vectors = A.shape[0]\n",
        "print(\"Number of vectors in the vector space:\", num_vectors)\n",
        "\n",
        "# 5. Rank of Matrix A\n",
        "rank_A = np.linalg.matrix_rank(A)\n",
        "print(\"Rank of Matrix A:\", rank_A)\n",
        "\n",
        "# 6. Solving AX = C using pseudo-inverse\n",
        "# Formula: X = (A^+)C\n",
        "A_pinv = np.linalg.pinv(A)\n",
        "X = A_pinv.dot(C)\n",
        "\n",
        "# Display product costs\n",
        "product_names = ['Candy Cost (Rs)', 'Mango Cost (Rs/kg)', 'Milk Packet Cost (Rs)']\n",
        "print(\"\\nEstimated Cost of Each Product:\")\n",
        "for name, cost in zip(product_names, X):\n",
        "    print(f\"{name}: ₹{round(float(cost[0]), 2)}\")"
      ]
    },
    {
      "cell_type": "markdown",
      "source": [
        "A2."
      ],
      "metadata": {
        "id": "RkgBN_23NCSr"
      }
    },
    {
      "cell_type": "code",
      "source": [
        "import pandas as pd\n",
        "from sklearn.linear_model import LogisticRegression\n",
        "from sklearn.preprocessing import StandardScaler\n",
        "\n",
        "# Load the data\n",
        "df = pd.read_excel(\"Lab Session Data.xlsx\", sheet_name=\"Purchase data\")\n",
        "\n",
        "# Drop any completely empty columns\n",
        "df = df.dropna(axis=1, how='all')\n",
        "\n",
        "# Create the label: 1 = RICH (Payment > 200), 0 = POOR\n",
        "df['label'] = df['Payment (Rs)'].apply(lambda x: 1 if x > 200 else 0)\n",
        "\n",
        "# Features and target\n",
        "X = df[['Candies (#)', 'Mangoes (Kg)', 'Milk Packets (#)']]\n",
        "y = df['label']\n",
        "\n",
        "# Standardize the features\n",
        "scaler = StandardScaler()\n",
        "X_scaled = scaler.fit_transform(X)\n",
        "\n",
        "# Train the model on all data\n",
        "model = LogisticRegression()\n",
        "model.fit(X_scaled, y)\n",
        "\n",
        "# Predict for all customers\n",
        "y_pred = model.predict(X_scaled)\n",
        "\n",
        "# Print results for all customers\n",
        "print(\"Customer Classification Results:\")\n",
        "for name, label in zip(df['Customer'], y_pred):\n",
        "    status = \"RICH\" if label == 1 else \"POOR\"\n",
        "    print(f\"{name} → {status}\")"
      ],
      "metadata": {
        "colab": {
          "base_uri": "https://localhost:8080/"
        },
        "id": "GYefh-gxNDh-",
        "outputId": "2ef67dda-ca49-4140-8fbe-87431238dd1d"
      },
      "execution_count": null,
      "outputs": [
        {
          "output_type": "stream",
          "name": "stdout",
          "text": [
            "Customer Classification Results:\n",
            "C_1 → RICH\n",
            "C_2 → RICH\n",
            "C_3 → RICH\n",
            "C_4 → POOR\n",
            "C_5 → RICH\n",
            "C_6 → POOR\n",
            "C_7 → RICH\n",
            "C_8 → RICH\n",
            "C_9 → POOR\n",
            "C_10 → POOR\n"
          ]
        }
      ]
    },
    {
      "cell_type": "markdown",
      "source": [
        "A3."
      ],
      "metadata": {
        "id": "oDGpssjlPYHZ"
      }
    },
    {
      "cell_type": "code",
      "source": [
        "import pandas as pd\n",
        "import statistics\n",
        "import matplotlib.pyplot as plt\n",
        "\n",
        "# Load the Excel sheet\n",
        "df = pd.read_excel(\"Lab Session Data.xlsx\", sheet_name=\"IRCTC Stock Price\")\n",
        "\n",
        "# Display first few rows to verify\n",
        "print(\"Initial Data:\")\n",
        "print(df.head())\n",
        "\n",
        "# 1. Mean and Variance of Price\n",
        "price_list = df['Price'].dropna().tolist()\n",
        "mean_price = statistics.mean(price_list)\n",
        "var_price = statistics.variance(price_list)\n",
        "\n",
        "print(f\"\\nPopulation Mean (Price): {mean_price:.2f}\")\n",
        "print(f\"Population Variance (Price): {var_price:.2f}\")\n",
        "\n",
        "# 2. Sample Mean for Wednesdays\n",
        "wed_data = df[df['Day'] == 'Wed']\n",
        "wed_mean = statistics.mean(wed_data['Price'])\n",
        "\n",
        "print(f\"\\nSample Mean (Wednesday): {wed_mean:.2f}\")\n",
        "print(\"Observation: \", \"Higher\" if wed_mean > mean_price else \"Lower\", \"than population mean\")\n",
        "\n",
        "# 3. Sample Mean for April\n",
        "apr_data = df[df['Month'] == 'Apr']\n",
        "apr_mean = statistics.mean(apr_data['Price'])\n",
        "\n",
        "print(f\"\\nSample Mean (April): {apr_mean:.2f}\")\n",
        "print(\"Observation: \", \"Higher\" if apr_mean > mean_price else \"Lower\", \"than population mean\")\n",
        "\n",
        "# 4. Probability of Making a Loss (Chg% < 0)\n",
        "chg_loss = df['Chg%'].apply(lambda x: x < 0).sum()\n",
        "total_days = len(df)\n",
        "loss_prob = chg_loss / total_days\n",
        "\n",
        "print(f\"\\nProbability of Loss: {loss_prob:.2f}\")\n",
        "\n",
        "# 5. Probability of Profit on Wednesday (Chg% > 0 and Day = Wed)\n",
        "wed_profit = df[(df['Day'] == 'Wed') & (df['Chg%'] > 0)].shape[0]\n",
        "wed_total = df[df['Day'] == 'Wed'].shape[0]\n",
        "prob_profit_wed = wed_profit / wed_total if wed_total > 0 else 0\n",
        "\n",
        "print(f\"\\nProbability of Profit on Wednesday: {prob_profit_wed:.2f}\")\n",
        "\n",
        "# 6. Conditional Probability of Profit given it's Wednesday\n",
        "# This is same as above since we already calculated P(Profit | Wednesday)\n",
        "\n",
        "# 7. Scatter Plot: Chg% vs Day\n",
        "plt.figure(figsize=(8, 5))\n",
        "plt.scatter(df['Day'], df['Chg%'], color='blue', alpha=0.7)\n",
        "plt.title(\"Change % vs Day of Week\")\n",
        "plt.xlabel(\"Day\")\n",
        "plt.ylabel(\"Chg%\")\n",
        "plt.grid(True)\n",
        "plt.show()"
      ],
      "metadata": {
        "colab": {
          "base_uri": "https://localhost:8080/",
          "height": 956
        },
        "id": "z5vqYvQTPZNa",
        "outputId": "a22be9b1-e102-49e5-933d-28658c4b50a9"
      },
      "execution_count": null,
      "outputs": [
        {
          "output_type": "stream",
          "name": "stdout",
          "text": [
            "Initial Data:\n",
            "           Date Month  Day    Price     Open     High      Low   Volume  \\\n",
            "0  Jun 29, 2021   Jun  Tue  2081.85  2092.00  2126.90  2065.05    1.67M   \n",
            "1  Jun 28, 2021   Jun  Mon  2077.75  2084.00  2112.45  2068.40  707.73K   \n",
            "2  Jun 25, 2021   Jun  Fri  2068.85  2084.35  2088.50  2053.10  475.82K   \n",
            "3  Jun 24, 2021   Jun  Thu  2072.95  2098.00  2098.00  2066.00  541.51K   \n",
            "4  Jun 23, 2021   Jun  Wed  2078.25  2102.00  2111.40  2072.00  809.62K   \n",
            "\n",
            "     Chg%  \n",
            "0  0.0020  \n",
            "1  0.0043  \n",
            "2 -0.0020  \n",
            "3 -0.0026  \n",
            "4 -0.0023  \n",
            "\n",
            "Population Mean (Price): 1560.66\n",
            "Population Variance (Price): 58732.37\n",
            "\n",
            "Sample Mean (Wednesday): 1550.71\n",
            "Observation:  Lower than population mean\n",
            "\n",
            "Sample Mean (April): 1698.95\n",
            "Observation:  Higher than population mean\n",
            "\n",
            "Probability of Loss: 0.50\n",
            "\n",
            "Probability of Profit on Wednesday: 0.42\n"
          ]
        },
        {
          "output_type": "display_data",
          "data": {
            "text/plain": [
              "<Figure size 800x500 with 1 Axes>"
            ],
            "image/png": "[encoded data removed]"
          },
          "metadata": {}
        }
      ]
    },
    {
      "cell_type": "markdown",
      "source": [
        "A4."
      ],
      "metadata": {
        "id": "p4GK-3AFS5Rm"
      }
    },
    {
      "cell_type": "code",
      "source": [
        "import pandas as pd\n",
        "import numpy as np\n",
        "import seaborn as sns\n",
        "import matplotlib.pyplot as plt\n",
        "from sklearn.preprocessing import LabelEncoder\n",
        "\n",
        "# Load the data\n",
        "df = pd.read_excel(\"Lab Session Data.xlsx\", sheet_name=\"thyroid0387_UCI\")\n",
        "\n",
        "# --- 1. Attribute Datatypes ---\n",
        "print(\"\\n1. Attribute Data Types:\")\n",
        "for col in df.columns:\n",
        "    dtype = df[col].dtype\n",
        "    print(f\"{col}: {dtype}\")\n",
        "\n",
        "# --- 2. Categorical Attributes & Encoding Strategy ---\n",
        "print(\"\\n2. Categorical Attributes and Encoding Strategy:\")\n",
        "categorical_cols = df.select_dtypes(include='object').columns.tolist()\n",
        "label_encode_cols = ['Condition'] if 'Condition' in categorical_cols else []\n",
        "onehot_encode_cols = [col for col in categorical_cols if col not in label_encode_cols]\n",
        "\n",
        "\n",
        "\n",
        "# --- 3. Data Range for Numeric Variables ---\n",
        "print(\"\\n3. Data Range for Numeric Variables:\")\n",
        "numerical_cols = df.select_dtypes(include='number').columns.tolist()\n",
        "for col in numerical_cols:\n",
        "    min_val = df[col].min()\n",
        "    max_val = df[col].max()\n",
        "    print(f\"{col}: Range = {min_val} to {max_val}\")\n",
        "\n",
        "# --- 4. Missing Values ---\n",
        "print(\"\\n4. Missing Values Count:\")\n",
        "missing = df.isnull().sum()\n",
        "for col, count in missing.items():\n",
        "    if count > 0:\n",
        "        print(f\"{col}: {count} missing values\")\n",
        "\n",
        "# Fill missing values for further steps\n",
        "df.fillna(method='ffill', inplace=True)\n",
        "\n",
        "# --- 5. Outlier Detection using IQR ---\n",
        "print(\"\\n5. Outlier Detection:\")\n",
        "for col in numerical_cols:\n",
        "    Q1 = df[col].quantile(0.25)\n",
        "    Q3 = df[col].quantile(0.75)\n",
        "    IQR = Q3 - Q1\n",
        "    lower = Q1 - 1.5 * IQR\n",
        "    upper = Q3 + 1.5 * IQR\n",
        "    outliers = df[(df[col] < lower) | (df[col] > upper)][col]\n",
        "    print(f\"{col}: {len(outliers)} outliers\")\n",
        "\n",
        "# --- 6. Mean and Variance ---\n",
        "print(\"\\n6. Mean and Variance:\")\n",
        "for col in numerical_cols:\n",
        "    mean = df[col].mean()\n",
        "    std_dev = df[col].std()\n",
        "    print(f\"{col}: Mean = {mean:.2f}, Std Dev = {std_dev:.2f}\")\n",
        "\n",
        "# --- 7. Encoding Categorical Variables ---\n",
        "print(\"\\n7. Encoding Categorical Variables...\")\n",
        "\n",
        "# Label Encoding\n",
        "le = LabelEncoder()\n",
        "for col in label_encode_cols:\n",
        "    df[col] = le.fit_transform(df[col])\n",
        "\n",
        "# One-Hot Encoding\n",
        "df = pd.get_dummies(df, columns=onehot_encode_cols, drop_first=True)"
      ],
      "metadata": {
        "colab": {
          "base_uri": "https://localhost:8080/"
        },
        "id": "43H4UGftS6mE",
        "outputId": "8142c87d-9d4b-485b-e1b3-c94e88ffd7e2"
      },
      "execution_count": null,
      "outputs": [
        {
          "output_type": "stream",
          "name": "stdout",
          "text": [
            "\n",
            "1. Attribute Data Types:\n",
            "Record ID: int64\n",
            "age: int64\n",
            "sex: object\n",
            "on thyroxine: object\n",
            "query on thyroxine: object\n",
            "on antithyroid medication: object\n",
            "sick: object\n",
            "pregnant: object\n",
            "thyroid surgery: object\n",
            "I131 treatment: object\n",
            "query hypothyroid: object\n",
            "query hyperthyroid: object\n",
            "lithium: object\n",
            "goitre: object\n",
            "tumor: object\n",
            "hypopituitary: object\n",
            "psych: object\n",
            "TSH measured: object\n",
            "TSH: object\n",
            "T3 measured: object\n",
            "T3: object\n",
            "TT4 measured: object\n",
            "TT4: object\n",
            "T4U measured: object\n",
            "T4U: object\n",
            "FTI measured: object\n",
            "FTI: object\n",
            "TBG measured: object\n",
            "TBG: object\n",
            "referral source: object\n",
            "Condition: object\n",
            "\n",
            "2. Categorical Attributes and Encoding Strategy:\n",
            "\n",
            "3. Data Range for Numeric Variables:\n",
            "Record ID: Range = 840801013 to 870119035\n",
            "age: Range = 1 to 65526\n",
            "\n",
            "4. Missing Values Count:\n",
            "\n",
            "5. Outlier Detection:\n",
            "Record ID: 0 outliers\n",
            "age: 4 outliers\n",
            "\n",
            "6. Mean and Variance:\n",
            "Record ID: Mean = 852947346.61, Std Dev = 7581968.78\n",
            "age: Mean = 73.56, Std Dev = 1183.98\n",
            "\n",
            "7. Encoding Categorical Variables...\n"
          ]
        },
        {
          "output_type": "stream",
          "name": "stderr",
          "text": [
            "/tmp/ipython-input-7-1898274872.py:40: FutureWarning: DataFrame.fillna with 'method' is deprecated and will raise in a future version. Use obj.ffill() or obj.bfill() instead.\n",
            "  df.fillna(method='ffill', inplace=True)\n"
          ]
        }
      ]
    },
    {
      "cell_type": "markdown",
      "source": [
        "A5."
      ],
      "metadata": {
        "id": "Kg5BDKIHRHgK"
      }
    },
    {
      "cell_type": "code",
      "source": [
        "import pandas as pd\n",
        "\n",
        "# Load the dataset\n",
        "df = pd.read_excel(\"Lab Session Data.xlsx\", sheet_name=\"thyroid0387_UCI\")\n",
        "\n",
        "# Convert all 't'/'f', 'y'/'n' etc. to 1/0\n",
        "df_binary = df.replace({'t': 1, 'f': 0, 'y': 1, 'n': 0})\n",
        "\n",
        "# Select only binary columns (those with just two unique values: 0 and 1)\n",
        "binary_cols = [col for col in df_binary.columns if df_binary[col].dropna().nunique() == 2 and\n",
        "               set(df_binary[col].dropna().unique()).issubset({0, 1})]\n",
        "\n",
        "# Extract first two observation vectors from binary columns\n",
        "v1 = df_binary.loc[0, binary_cols].astype(int).values\n",
        "v2 = df_binary.loc[1, binary_cols].astype(int).values\n",
        "\n",
        "# Compute f11, f00, f10, f01\n",
        "f11 = sum((v1 == 1) & (v2 == 1))\n",
        "f00 = sum((v1 == 0) & (v2 == 0))\n",
        "f10 = sum((v1 == 1) & (v2 == 0))\n",
        "f01 = sum((v1 == 0) & (v2 == 1))\n",
        "\n",
        "# Calculate Jaccard Coefficient and Simple Matching Coefficient\n",
        "jaccard = f11 / (f11 + f10 + f01) if (f11 + f10 + f01) != 0 else 0\n",
        "smc = (f11 + f00) / (f00 + f01 + f10 + f11) if (f00 + f01 + f10 + f11) != 0 else 0\n",
        "\n",
        "# Print the results\n",
        "print(\"Binary Attributes Considered:\", binary_cols)\n",
        "print(f\"f11 = {f11}, f00 = {f00}, f10 = {f10}, f01 = {f01}\")\n",
        "print(f\"\\nJaccard Coefficient (JC): {jaccard:.4f}\")\n",
        "print(f\"Simple Matching Coefficient (SMC): {smc:.4f}\")"
      ],
      "metadata": {
        "colab": {
          "base_uri": "https://localhost:8080/"
        },
        "id": "K6awbkcvRJfA",
        "outputId": "dab59e63-bbce-4e21-a6a3-07a836875b8b"
      },
      "execution_count": null,
      "outputs": [
        {
          "output_type": "stream",
          "name": "stdout",
          "text": [
            "Binary Attributes Considered: ['on thyroxine', 'query on thyroxine', 'on antithyroid medication', 'sick', 'pregnant', 'thyroid surgery', 'I131 treatment', 'query hypothyroid', 'query hyperthyroid', 'lithium', 'goitre', 'tumor', 'hypopituitary', 'psych', 'TSH measured', 'T3 measured', 'TT4 measured', 'T4U measured', 'FTI measured', 'TBG measured']\n",
            "f11 = 1, f00 = 16, f10 = 1, f01 = 2\n",
            "\n",
            "Jaccard Coefficient (JC): 0.2500\n",
            "Simple Matching Coefficient (SMC): 0.8500\n"
          ]
        },
        {
          "output_type": "stream",
          "name": "stderr",
          "text": [
            "/tmp/ipython-input-8-3731227765.py:7: FutureWarning: Downcasting behavior in `replace` is deprecated and will be removed in a future version. To retain the old behavior, explicitly call `result.infer_objects(copy=False)`. To opt-in to the future behavior, set `pd.set_option('future.no_silent_downcasting', True)`\n",
            "  df_binary = df.replace({'t': 1, 'f': 0, 'y': 1, 'n': 0})\n"
          ]
        }
      ]
    },
    {
      "cell_type": "markdown",
      "source": [
        "A6."
      ],
      "metadata": {
        "id": "E81IlnyGVc6C"
      }
    },
    {
      "cell_type": "code",
      "source": [
        "from sklearn.metrics.pairwise import cosine_similarity\n",
        "import pandas as pd\n",
        "import numpy as np\n",
        "\n",
        "# Load data\n",
        "df = pd.read_excel(\"Lab Session Data.xlsx\", sheet_name=\"thyroid0387_UCI\")\n",
        "\n",
        "# Drop non-numeric columns for cosine similarity calculation\n",
        "df_numeric = df.select_dtypes(include=[np.number])\n",
        "\n",
        "# Drop rows with missing values to avoid NaNs during similarity\n",
        "df_numeric_clean = df_numeric.dropna()\n",
        "\n",
        "# Ensure we have at least two clean rows\n",
        "if df_numeric_clean.shape[0] >= 2:\n",
        "    vec1 = df_numeric_clean.iloc[0].values.reshape(1, -1)\n",
        "    vec2 = df_numeric_clean.iloc[1].values.reshape(1, -1)\n",
        "\n",
        "    # Calculate cosine similarity\n",
        "    cos_sim = cosine_similarity(vec1, vec2)[0][0]\n",
        "\n",
        "    print(f\"\\nCosine Similarity between first two observations (full numeric vectors): {cos_sim:.4f}\")\n",
        "else:\n",
        "    print(\"Not enough valid numeric data to compute cosine similarity.\")"
      ],
      "metadata": {
        "colab": {
          "base_uri": "https://localhost:8080/"
        },
        "id": "P0Hz40opVeEj",
        "outputId": "e855e1c3-7692-46d6-c4c4-5f3324ff5703"
      },
      "execution_count": null,
      "outputs": [
        {
          "output_type": "stream",
          "name": "stdout",
          "text": [
            "\n",
            "Cosine Similarity between first two observations (full numeric vectors): 1.0000\n"
          ]
        }
      ]
    },
    {
      "cell_type": "markdown",
      "source": [
        "A7."
      ],
      "metadata": {
        "id": "nRrhiMECYe6b"
      }
    },
    {
      "cell_type": "code",
      "source": [
        "import pandas as pd\n",
        "import numpy as np\n",
        "import seaborn as sns\n",
        "import matplotlib.pyplot as plt\n",
        "from sklearn.metrics.pairwise import cosine_similarity\n",
        "\n",
        "# Load data\n",
        "df = pd.read_excel(\"Lab Session Data.xlsx\", sheet_name=\"thyroid0387_UCI\")\n",
        "\n",
        "# Convert t/f/y/n to binary (1/0)\n",
        "df_binary = df.replace({'t': 1, 'f': 0, 'y': 1, 'n': 0})\n",
        "\n",
        "# Select only binary columns\n",
        "binary_cols = df_binary.columns[df_binary.apply(lambda col: col.dropna().isin([0, 1]).all())]\n",
        "binary_data = df_binary[binary_cols].head(20).dropna()\n",
        "\n",
        "n = len(binary_data)\n",
        "jc_matrix = np.zeros((n, n))\n",
        "smc_matrix = np.zeros((n, n))\n",
        "\n",
        "for i in range(n):\n",
        "    for j in range(n):\n",
        "        a = binary_data.iloc[i].values\n",
        "        b = binary_data.iloc[j].values\n",
        "\n",
        "        f11 = np.sum((a == 1) & (b == 1))\n",
        "        f00 = np.sum((a == 0) & (b == 0))\n",
        "        f10 = np.sum((a == 1) & (b == 0))\n",
        "        f01 = np.sum((a == 0) & (b == 1))\n",
        "\n",
        "        jc = f11 / (f11 + f10 + f01) if (f11 + f10 + f01) != 0 else 0\n",
        "        smc = (f11 + f00) / (f11 + f00 + f10 + f01)\n",
        "\n",
        "        jc_matrix[i, j] = jc\n",
        "        smc_matrix[i, j] = smc\n",
        "\n",
        "numeric_data = df.select_dtypes(include=[np.number]).head(20).dropna()\n",
        "cos_matrix = cosine_similarity(numeric_data)\n",
        "\n",
        "plt.figure(figsize=(16, 4))\n",
        "\n",
        "# JC Heatmap\n",
        "plt.subplot(1, 3, 1)\n",
        "sns.heatmap(jc_matrix, cmap='coolwarm', annot=False)\n",
        "plt.title(\"Jaccard Coefficient (JC)\")\n",
        "\n",
        "# SMC Heatmap\n",
        "plt.subplot(1, 3, 2)\n",
        "sns.heatmap(smc_matrix, cmap='coolwarm', annot=False)\n",
        "plt.title(\"Simple Matching Coefficient (SMC)\")\n",
        "\n",
        "# COS Heatmap\n",
        "plt.subplot(1, 3, 3)\n",
        "sns.heatmap(cos_matrix, cmap='coolwarm', annot=False)\n",
        "plt.title(\"Cosine Similarity\")\n",
        "\n",
        "plt.tight_layout()\n",
        "plt.show()"
      ],
      "metadata": {
        "colab": {
          "base_uri": "https://localhost:8080/",
          "height": 379
        },
        "id": "H9rFavsQYgO1",
        "outputId": "5a208424-cba5-4b77-b47c-73c27017b04b"
      },
      "execution_count": null,
      "outputs": [
        {
          "output_type": "stream",
          "name": "stderr",
          "text": [
            "/tmp/ipython-input-10-2592661487.py:14: FutureWarning: Downcasting behavior in `replace` is deprecated and will be removed in a future version. To retain the old behavior, explicitly call `result.infer_objects(copy=False)`. To opt-in to the future behavior, set `pd.set_option('future.no_silent_downcasting', True)`\n",
            "  df_binary = df.replace({'t': 1, 'f': 0, 'y': 1, 'n': 0})\n"
          ]
        },
        {
          "output_type": "display_data",
          "data": {
            "text/plain": [
              "<Figure size 1600x400 with 6 Axes>"
            ],
            "image/png": "[encoded data removed]"
          },
          "metadata": {}
        }
      ]
    },
    {
      "cell_type": "markdown",
      "source": [
        "A8."
      ],
      "metadata": {
        "id": "tQYINCHkZtY4"
      }
    },
    {
      "cell_type": "code",
      "source": [
        "import pandas as pd\n",
        "import numpy as np\n",
        "\n",
        "# Load the dataset\n",
        "df = pd.read_excel(\"Lab Session Data.xlsx\", sheet_name=\"IRCTC Stock Price\")\n",
        "\n",
        "print(\"Missing Values BEFORE Imputation:\")\n",
        "print(df.isnull().sum()[df.isnull().sum() > 0])\n",
        "\n",
        "# Split into numeric and categorical\n",
        "numeric_cols = df.select_dtypes(include=[np.number]).columns\n",
        "categorical_cols = df.select_dtypes(exclude=[np.number]).columns\n",
        "\n",
        "# Step 1: Detect Outliers using IQR\n",
        "outlier_cols = []\n",
        "for col in numeric_cols:\n",
        "    Q1 = df[col].quantile(0.25)\n",
        "    Q3 = df[col].quantile(0.75)\n",
        "    IQR = Q3 - Q1\n",
        "    outliers = df[(df[col] < Q1 - 1.5 * IQR) | (df[col] > Q3 + 1.5 * IQR)]\n",
        "    if not outliers.empty:\n",
        "        outlier_cols.append(col)\n",
        "\n",
        "# Step 2: Impute missing values\n",
        "for col in df.columns:\n",
        "    if df[col].isnull().sum() > 0:\n",
        "        if col in numeric_cols:\n",
        "            if col in outlier_cols:\n",
        "                df[col].fillna(df[col].median(), inplace=True)\n",
        "                print(f\"{col}: Imputed using MEDIAN\")\n",
        "            else:\n",
        "                df[col].fillna(df[col].mean(), inplace=True)\n",
        "                print(f\"{col}: Imputed using MEAN\")\n",
        "        else:\n",
        "            df[col].fillna(df[col].mode()[0], inplace=True)\n",
        "            print(f\"{col}: Imputed using MODE\")\n",
        "\n",
        "# Final check\n",
        "print(\"\\nMissing Values AFTER Imputation:\")\n",
        "print(df.isnull().sum()[df.isnull().sum() > 0])"
      ],
      "metadata": {
        "colab": {
          "base_uri": "https://localhost:8080/"
        },
        "id": "vD76NBbwZumJ",
        "outputId": "18f46872-4da5-4f59-cf6b-916bf71e15b1"
      },
      "execution_count": null,
      "outputs": [
        {
          "output_type": "stream",
          "name": "stdout",
          "text": [
            "Missing Values BEFORE Imputation:\n",
            "Series([], dtype: int64)\n",
            "\n",
            "Missing Values AFTER Imputation:\n",
            "Series([], dtype: int64)\n"
          ]
        }
      ]
    },
    {
      "cell_type": "markdown",
      "source": [
        "A9."
      ],
      "metadata": {
        "id": "jmYRJ71_b1tD"
      }
    },
    {
      "cell_type": "code",
      "source": [
        "import pandas as pd\n",
        "import numpy as np\n",
        "from sklearn.preprocessing import MinMaxScaler, StandardScaler\n",
        "\n",
        "# Load dataset\n",
        "df = pd.read_excel(\"Lab Session Data.xlsx\", sheet_name=\"thyroid0387_UCI\")\n",
        "\n",
        "# Get numeric columns\n",
        "numeric_cols = df.select_dtypes(include=[np.number]).columns\n",
        "\n",
        "# Detect outliers using IQR to decide scaling method\n",
        "minmax_cols = []\n",
        "standard_cols = []\n",
        "\n",
        "for col in numeric_cols:\n",
        "    Q1 = df[col].quantile(0.25)\n",
        "    Q3 = df[col].quantile(0.75)\n",
        "    IQR = Q3 - Q1\n",
        "    outliers = df[(df[col] < Q1 - 1.5 * IQR) | (df[col] > Q3 + 1.5 * IQR)]\n",
        "    if outliers.empty:\n",
        "        minmax_cols.append(col)\n",
        "    else:\n",
        "        standard_cols.append(col)\n",
        "\n",
        "# Apply Min-Max Scaling\n",
        "if minmax_cols:\n",
        "    minmax_scaler = MinMaxScaler()\n",
        "    df[minmax_cols] = minmax_scaler.fit_transform(df[minmax_cols])\n",
        "    print(f\"Min-Max Scaling applied to: {minmax_cols}\")\n",
        "\n",
        "# Apply Standard Scaling\n",
        "if standard_cols:\n",
        "    standard_scaler = StandardScaler()\n",
        "    df[standard_cols] = standard_scaler.fit_transform(df[standard_cols])\n",
        "    print(f\"Standard Scaling applied to: {standard_cols}\")\n",
        "\n",
        "# Display the normalized data (first 5 rows)\n",
        "print(\"\\nNormalized Data Snapshot:\")\n",
        "print(df[numeric_cols].head())"
      ],
      "metadata": {
        "colab": {
          "base_uri": "https://localhost:8080/"
        },
        "id": "num13kMDb29A",
        "outputId": "099ea5e8-2fb2-463e-aec6-50586270baa0"
      },
      "execution_count": null,
      "outputs": [
        {
          "output_type": "stream",
          "name": "stdout",
          "text": [
            "Min-Max Scaling applied to: ['Record ID']\n",
            "Standard Scaling applied to: ['age']\n",
            "\n",
            "Normalized Data Snapshot:\n",
            "      Record ID       age\n",
            "0  0.000000e+00 -0.037634\n",
            "1  3.410871e-08 -0.037634\n",
            "2  9.891527e-07 -0.027499\n",
            "3  6.934301e-05 -0.031722\n",
            "4  6.937712e-05 -0.035100\n"
          ]
        }
      ]
    }
  ]
}